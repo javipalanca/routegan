{
 "cells": [
  {
   "cell_type": "code",
   "execution_count": 1,
   "metadata": {
    "collapsed": true
   },
   "outputs": [],
   "source": [
    "import numpy as np\n",
    "import matplotlib.pyplot as plt\n",
    "\n",
    "route = np.array(\n",
    "    [\n",
    "        [-73.973695, 40.797041],\n",
    "        [-73.973651, 40.797149],\n",
    "        [-73.972259, 40.796556],\n",
    "        [-73.972713, 40.795936],\n",
    "        [-73.973006, 40.795531],\n",
    "        [-73.973207, 40.795253],\n",
    "        [-73.973555, 40.794804],\n",
    "        [-73.973724, 40.794586],\n",
    "        [-73.974186, 40.793962],\n",
    "        [-73.974635, 40.793332],\n",
    "        [-73.97509, 40.792705],\n",
    "        [-73.975552, 40.79207],\n",
    "        [-73.976005, 40.79144],\n",
    "        [-73.976449, 40.790814],\n",
    "        [-73.976923, 40.790174],\n",
    "        [-73.977374, 40.789563],\n",
    "        [-73.977863, 40.788887],\n",
    "        [-73.978373, 40.788199],\n",
    "        [-73.978829, 40.787567],\n",
    "        [-73.979294, 40.786939],\n",
    "        [-73.979762, 40.786293],\n",
    "        [-73.980223, 40.785659],\n",
    "        [-73.980678, 40.785031],\n",
    "        [-73.98117, 40.78435],\n",
    "        [-73.981687, 40.783671],\n",
    "        [-73.982129, 40.78303],\n",
    "        [-73.982595, 40.782395],\n",
    "        [-73.981176, 40.781802],\n",
    "        [-73.980982, 40.781719],\n",
    "        [-73.98073, 40.782439],\n",
    "        [-73.980696, 40.782522],\n",
    "        [-73.98063, 40.78266],\n",
    "    ]\n",
    ")"
   ]
  },
  {
   "cell_type": "code",
   "execution_count": 52,
   "outputs": [],
   "source": [
    "SCALE = 10000"
   ],
   "metadata": {
    "collapsed": false,
    "pycharm": {
     "name": "#%%\n"
    }
   }
  },
  {
   "cell_type": "code",
   "execution_count": 53,
   "outputs": [],
   "source": [
    "r2 = route * SCALE"
   ],
   "metadata": {
    "collapsed": false,
    "pycharm": {
     "name": "#%%\n"
    }
   }
  },
  {
   "cell_type": "code",
   "execution_count": 54,
   "outputs": [
    {
     "data": {
      "text/plain": "array([[-739736.95,  407970.41],\n       [-739736.51,  407971.49],\n       [-739722.59,  407965.56],\n       [-739727.13,  407959.36],\n       [-739730.06,  407955.31],\n       [-739732.07,  407952.53],\n       [-739735.55,  407948.04],\n       [-739737.24,  407945.86],\n       [-739741.86,  407939.62],\n       [-739746.35,  407933.32],\n       [-739750.9 ,  407927.05],\n       [-739755.52,  407920.7 ],\n       [-739760.05,  407914.4 ],\n       [-739764.49,  407908.14],\n       [-739769.23,  407901.74],\n       [-739773.74,  407895.63],\n       [-739778.63,  407888.87],\n       [-739783.73,  407881.99],\n       [-739788.29,  407875.67],\n       [-739792.94,  407869.39],\n       [-739797.62,  407862.93],\n       [-739802.23,  407856.59],\n       [-739806.78,  407850.31],\n       [-739811.7 ,  407843.5 ],\n       [-739816.87,  407836.71],\n       [-739821.29,  407830.3 ],\n       [-739825.95,  407823.95],\n       [-739811.76,  407818.02],\n       [-739809.82,  407817.19],\n       [-739807.3 ,  407824.39],\n       [-739806.96,  407825.22],\n       [-739806.3 ,  407826.6 ]])"
     },
     "execution_count": 54,
     "metadata": {},
     "output_type": "execute_result"
    }
   ],
   "source": [
    "r2"
   ],
   "metadata": {
    "collapsed": false,
    "pycharm": {
     "name": "#%%\n"
    }
   }
  },
  {
   "cell_type": "code",
   "execution_count": 55,
   "outputs": [],
   "source": [
    "lat, lon = zip(*r2)"
   ],
   "metadata": {
    "collapsed": false,
    "pycharm": {
     "name": "#%%\n"
    }
   }
  },
  {
   "cell_type": "code",
   "execution_count": 56,
   "outputs": [],
   "source": [
    "lat2 = np.array([int(x) for x in np.around(lat,0)])\n",
    "lon2 = np.array([int(x) for x in np.around(lon,0)])"
   ],
   "metadata": {
    "collapsed": false,
    "pycharm": {
     "name": "#%%\n"
    }
   }
  },
  {
   "cell_type": "code",
   "execution_count": 57,
   "outputs": [
    {
     "data": {
      "text/plain": "-739826"
     },
     "execution_count": 57,
     "metadata": {},
     "output_type": "execute_result"
    }
   ],
   "source": [
    "min(lat2)"
   ],
   "metadata": {
    "collapsed": false,
    "pycharm": {
     "name": "#%%\n"
    }
   }
  },
  {
   "cell_type": "code",
   "execution_count": 58,
   "outputs": [],
   "source": [
    "ny_bb = np.array([[-74.3464,\t40.4904], [-73.5746, 41.0116]])"
   ],
   "metadata": {
    "collapsed": false,
    "pycharm": {
     "name": "#%%\n"
    }
   }
  },
  {
   "cell_type": "code",
   "execution_count": 59,
   "outputs": [],
   "source": [
    "ny_bb = ny_bb * SCALE"
   ],
   "metadata": {
    "collapsed": false,
    "pycharm": {
     "name": "#%%\n"
    }
   }
  },
  {
   "cell_type": "code",
   "execution_count": 60,
   "outputs": [],
   "source": [
    "NYLAT = 743464\n",
    "NYLON = 404904"
   ],
   "metadata": {
    "collapsed": false,
    "pycharm": {
     "name": "#%%\n"
    }
   }
  },
  {
   "cell_type": "code",
   "execution_count": 61,
   "outputs": [
    {
     "data": {
      "text/plain": "7718.0"
     },
     "execution_count": 61,
     "metadata": {},
     "output_type": "execute_result"
    }
   ],
   "source": [
    "ny_bb[1][0] + NYLAT"
   ],
   "metadata": {
    "collapsed": false,
    "pycharm": {
     "name": "#%%\n"
    }
   }
  },
  {
   "cell_type": "code",
   "execution_count": 62,
   "outputs": [],
   "source": [
    "\n",
    "lat3 = lat2+NYLAT\n",
    "lon3 = lon2-NYLON"
   ],
   "metadata": {
    "collapsed": false,
    "pycharm": {
     "name": "#%%\n"
    }
   }
  },
  {
   "cell_type": "code",
   "execution_count": 63,
   "outputs": [
    {
     "data": {
      "text/plain": "(3638, 2913)"
     },
     "execution_count": 63,
     "metadata": {},
     "output_type": "execute_result"
    }
   ],
   "source": [
    "np.min(lat3), np.min(lon3)"
   ],
   "metadata": {
    "collapsed": false,
    "pycharm": {
     "name": "#%%\n"
    }
   }
  },
  {
   "cell_type": "code",
   "execution_count": 65,
   "outputs": [
    {
     "name": "stdout",
     "output_type": "stream",
     "text": [
      "(1148368, 5212)\n"
     ]
    }
   ],
   "source": [
    "shape = int(ny_bb[0][1]+NYLAT), int(ny_bb[1][1]-NYLON)\n",
    "print(shape)\n",
    "\n",
    "mat = np.zeros(shape)"
   ],
   "metadata": {
    "collapsed": false,
    "pycharm": {
     "name": "#%%\n"
    }
   }
  },
  {
   "cell_type": "code",
   "execution_count": 68,
   "outputs": [
    {
     "data": {
      "text/plain": "<matplotlib.image.AxesImage at 0x7fbae04f6940>"
     },
     "execution_count": 68,
     "metadata": {},
     "output_type": "execute_result"
    },
    {
     "data": {
      "text/plain": "<Figure size 288x1152 with 1 Axes>",
      "image/png": "[encoded data removed]"
     },
     "metadata": {
      "needs_background": "light"
     },
     "output_type": "display_data"
    }
   ],
   "source": [
    "for i in range(len(lat3)):\n",
    "    for j in range(len(lon3)):\n",
    "        mat[lat3[i]][lon3[j]] = 1\n",
    "\n",
    "plt.matshow(mat)"
   ],
   "metadata": {
    "collapsed": false,
    "pycharm": {
     "name": "#%%\n"
    }
   }
  },
  {
   "cell_type": "code",
   "execution_count": 69,
   "outputs": [],
   "source": [
    "plt.show()\n"
   ],
   "metadata": {
    "collapsed": false,
    "pycharm": {
     "name": "#%%\n"
    }
   }
  },
  {
   "cell_type": "code",
   "execution_count": null,
   "outputs": [],
   "source": [],
   "metadata": {
    "collapsed": false,
    "pycharm": {
     "name": "#%%\n"
    }
   }
  }
 ],
 "metadata": {
  "kernelspec": {
   "display_name": "Python 3",
   "language": "python",
   "name": "python3"
  },
  "language_info": {
   "codemirror_mode": {
    "name": "ipython",
    "version": 2
   },
   "file_extension": ".py",
   "mimetype": "text/x-python",
   "name": "python",
   "nbconvert_exporter": "python",
   "pygments_lexer": "ipython2",
   "version": "2.7.6"
  }
 },
 "nbformat": 4,
 "nbformat_minor": 0
}